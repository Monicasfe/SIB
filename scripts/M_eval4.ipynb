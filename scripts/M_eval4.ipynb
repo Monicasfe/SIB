{
 "cells": [
  {
   "cell_type": "markdown",
   "metadata": {
    "collapsed": true,
    "pycharm": {
     "name": "#%% md\n"
    }
   },
   "source": [
    "## Neural Networks\n",
    "\n",
    "## XNOR\n"
   ]
  },
  {
   "cell_type": "code",
   "execution_count": 1,
   "outputs": [],
   "source": [
    "import numpy as np\n",
    "from src.si.data.dataset import Dataset\n",
    "X = np.array([[0,0], [0,1], [1,0], [1,1]])\n",
    "y = np.array([[1], [0], [0], [1]])\n",
    "dataset = Dataset(X,y,['X1','X2'],'X1 XNOR X2')"
   ],
   "metadata": {
    "collapsed": false,
    "pycharm": {
     "name": "#%%\n"
    }
   }
  },
  {
   "cell_type": "code",
   "execution_count": 2,
   "outputs": [
    {
     "data": {
      "text/plain": "   X1  X2  X1 XNOR X2\n0   0   0           1\n1   0   1           0\n2   1   0           0\n3   1   1           1",
      "text/html": "<div>\n<style scoped>\n    .dataframe tbody tr th:only-of-type {\n        vertical-align: middle;\n    }\n\n    .dataframe tbody tr th {\n        vertical-align: top;\n    }\n\n    .dataframe thead th {\n        text-align: right;\n    }\n</style>\n<table border=\"1\" class=\"dataframe\">\n  <thead>\n    <tr style=\"text-align: right;\">\n      <th></th>\n      <th>X1</th>\n      <th>X2</th>\n      <th>X1 XNOR X2</th>\n    </tr>\n  </thead>\n  <tbody>\n    <tr>\n      <th>0</th>\n      <td>0</td>\n      <td>0</td>\n      <td>1</td>\n    </tr>\n    <tr>\n      <th>1</th>\n      <td>0</td>\n      <td>1</td>\n      <td>0</td>\n    </tr>\n    <tr>\n      <th>2</th>\n      <td>1</td>\n      <td>0</td>\n      <td>0</td>\n    </tr>\n    <tr>\n      <th>3</th>\n      <td>1</td>\n      <td>1</td>\n      <td>1</td>\n    </tr>\n  </tbody>\n</table>\n</div>"
     },
     "execution_count": 2,
     "metadata": {},
     "output_type": "execute_result"
    }
   ],
   "source": [
    "dataset.toDataframe()"
   ],
   "metadata": {
    "collapsed": false,
    "pycharm": {
     "name": "#%%\n"
    }
   }
  },
  {
   "cell_type": "code",
   "execution_count": 3,
   "outputs": [],
   "source": [
    "\n",
    "from src.si.supervised.neuralnet import NN, Dense, Activation\n",
    "from src.si.util.activation import Sigmoid\n",
    "from src.si.util.util import sigmoid, cross_entropy, cross_entropy_prime"
   ],
   "metadata": {
    "collapsed": false,
    "pycharm": {
     "name": "#%%\n"
    }
   }
  },
  {
   "cell_type": "code",
   "execution_count": 4,
   "outputs": [],
   "source": [
    "# layer1 weights\n",
    "w1 = np.array([[20,-20],[20,-20]])\n",
    "b1 = np.array([[-30, 10]])\n",
    "l1 = Dense(2, 2)\n",
    "l1.setWeights(w1,b1)"
   ],
   "metadata": {
    "collapsed": false,
    "pycharm": {
     "name": "#%%\n"
    }
   }
  },
  {
   "cell_type": "code",
   "execution_count": 5,
   "outputs": [],
   "source": [
    "\n",
    "# layer2 weights\n",
    "w2 = np.array([[20],[20]])\n",
    "b2 = np.array([[-10]])\n",
    "l2 = Dense(2, 1)\n",
    "l2.setWeights(w2,b2)"
   ],
   "metadata": {
    "collapsed": false,
    "pycharm": {
     "name": "#%%\n"
    }
   }
  },
  {
   "cell_type": "code",
   "execution_count": 6,
   "outputs": [],
   "source": [
    "# Build the NN\n",
    "nn = NN()\n",
    "nn.add(l1)\n",
    "nn.add(Activation(Sigmoid()))\n",
    "nn.add(l2)\n",
    "nn.add(Activation(Sigmoid()))\n",
    "# pass the info that the model is fitted\n",
    "nn.is_fitted = True #para nao dar o erro de nao ter passado pelo fit"
   ],
   "metadata": {
    "collapsed": false,
    "pycharm": {
     "name": "#%%\n"
    }
   }
  },
  {
   "cell_type": "code",
   "execution_count": 7,
   "outputs": [
    {
     "data": {
      "text/plain": "array([[1.],\n       [0.],\n       [0.],\n       [1.]])"
     },
     "execution_count": 7,
     "metadata": {},
     "output_type": "execute_result"
    }
   ],
   "source": [
    "np.round(nn.predict(dataset.X))"
   ],
   "metadata": {
    "collapsed": false,
    "pycharm": {
     "name": "#%%\n"
    }
   }
  },
  {
   "cell_type": "code",
   "execution_count": 8,
   "outputs": [
    {
     "data": {
      "text/plain": "2.066588540474394e-09"
     },
     "execution_count": 8,
     "metadata": {},
     "output_type": "execute_result"
    }
   ],
   "source": [
    "nn.cost(dataset.X,dataset.Y)"
   ],
   "metadata": {
    "collapsed": false,
    "pycharm": {
     "name": "#%%\n"
    }
   }
  },
  {
   "cell_type": "markdown",
   "source": [
    "## Train the model using backpropagation"
   ],
   "metadata": {
    "collapsed": false,
    "pycharm": {
     "name": "#%% md\n"
    }
   }
  },
  {
   "cell_type": "code",
   "execution_count": 9,
   "outputs": [],
   "source": [
    "nn2 = NN(epochs=100000,lr=0.1, verbose=False)\n",
    "nn2.add(Dense(2, 2))\n",
    "nn2.add(Activation(Sigmoid()))\n",
    "nn2.add(Dense(2, 1))\n",
    "nn2.add(Activation(Sigmoid()))\n",
    "# use cross entropy instead of MSE as loss function\n",
    "# nn2.use(cross_entropy,cross_entropy_prime)"
   ],
   "metadata": {
    "collapsed": false,
    "pycharm": {
     "name": "#%%\n"
    }
   }
  },
  {
   "cell_type": "code",
   "execution_count": 10,
   "outputs": [
    {
     "name": "stdout",
     "output_type": "stream",
     "text": [
      "epoch 100000/100000 error = 0.00030313901753409225\rh 10277/100000 error = 0.05392211834251265epoch 11241/100000 error = 0.028199348339721084epoch 12255/100000 error = 0.0171041932689699epoch 13178/100000 error = 0.012167092940892715epoch 13796/100000 error = 0.010092130405248626epoch 14230/100000 error = 0.00898198587661455epoch 15028/100000 error = 0.007433565956834892epoch 15667/100000 error = 0.006509481875119467epoch 16364/100000 error = 0.00571760404658995epoch 16952/100000 error = 0.005177053060573097epoch 17711/100000 error = 0.004606174615371272epoch 18243/100000 error = 0.004271698410149726epoch 18896/100000 error = 0.003918733143980293epoch 19876/100000 error = 0.003481474894287386epoch 20790/100000 error = 0.003149479529032413epoch 21566/100000 error = 0.0029113909962455125epoch 22616/100000 error = 0.002638872740451738epoch 23503/100000 error = 0.002443874501424981epoch 23969/100000 error = 0.00235203962440791epoch 24524/100000 error = 0.0022508957580718372epoch 25255/100000 error = 0.002129694948270875epoch 26664/100000 error = 0.0019281257514808epoch 27459/100000 error = 0.0018297471035455628epoch 28115/100000 error = 0.0017555323904995793epoch 28994/100000 error = 0.0016646920233909456epoch 29997/100000 error = 0.001571473140497557epoch 30786/100000 error = 0.0015049082651693827epoch 31471/100000 error = 0.001451364204889184epoch 32266/100000 error = 0.0013936418102201752epoch 33076/100000 error = 0.0013392058299317529epoch 33817/100000 error = 0.0012928754990727688epoch 34587/100000 error = 0.0012478955967818043epoch 35225/100000 error = 0.0012128508143633928epoch 36128/100000 error = 0.0011663756867004587epoch 37631/100000 error = 0.0010962056932363315epoch 38321/100000 error = 0.0010666541162393205epoch 38912/100000 error = 0.001042539981509901epoch 39505/100000 error = 0.0010193807450021455epoch 40347/100000 error = 0.0009881557995638625epoch 41126/100000 error = 0.0009608714903312214epoch 42069/100000 error = 0.0009297332979881148epoch 42839/100000 error = 0.0009057208481644805epoch 43571/100000 error = 0.0008839814947250172epoch 44258/100000 error = 0.0008644787087043848epoch 45029/100000 error = 0.0008435612508699932epoch 45813/100000 error = 0.0008232740193893991epoch 46358/100000 error = 0.0008097199178211376epoch 47106/100000 error = 0.0007918068479947053epoch 47919/100000 error = 0.0007731894313384809epoch 48714/100000 error = 0.000755787993974415epoch 49622/100000 error = 0.0007368207842386342epoch 50606/100000 error = 0.0007172831054358122epoch 51612/100000 error = 0.0006983226132830059epoch 52340/100000 error = 0.0006851981515693798epoch 53130/100000 error = 0.0006714878792361894epoch 54020/100000 error = 0.0006566674017433465epoch 54791/100000 error = 0.0006443334342475649epoch 55474/100000 error = 0.0006337776584052178epoch 56055/100000 error = 0.0006250595653105778epoch 56645/100000 error = 0.0006164420061486694epoch 57268/100000 error = 0.0006075899037898023epoch 58047/100000 error = 0.0005968633567176789epoch 58870/100000 error = 0.0005859243173115521epoch 59750/100000 error = 0.0005746514841165971epoch 60555/100000 error = 0.0005647031375914143epoch 61122/100000 error = 0.0005578950481768704epoch 61981/100000 error = 0.0005478801681442821epoch 62986/100000 error = 0.0005365989343603523epoch 63726/100000 error = 0.0005285775755298962epoch 64482/100000 error = 0.0005206206224784101epoch 65317/100000 error = 0.0005120992800996334epoch 65952/100000 error = 0.0005057988568298226epoch 66758/100000 error = 0.0004980162356675875epoch 67615/100000 error = 0.0004899933682242221epoch 68410/100000 error = 0.0004827731282273708epoch 69289/100000 error = 0.00047502787440763543epoch 70147/100000 error = 0.00046769802232928995epoch 70892/100000 error = 0.0004615102728172774epoch 71666/100000 error = 0.00045524867406576913epoch 72350/100000 error = 0.0004498516202645406epoch 73132/100000 error = 0.0004438323634792322epoch 73978/100000 error = 0.0004374951308390969epoch 74910/100000 error = 0.0004307151863820501epoch 75714/100000 error = 0.00042502916739304035epoch 76658/100000 error = 0.0004185374289887716epoch 77397/100000 error = 0.000413589079063183epoch 78122/100000 error = 0.0004088443210091391epoch 78885/100000 error = 0.0004039644186280761epoch 79695/100000 error = 0.00039890697326242793epoch 80275/100000 error = 0.000395360971954377epoch 81279/100000 error = 0.00038936622114296325epoch 81956/100000 error = 0.00038542327491344317epoch 82907/100000 error = 0.0003800145724119578epoch 83880/100000 error = 0.00037463225240585215epoch 84872/100000 error = 0.0003692961976301543epoch 85734/100000 error = 0.0003647787090553823epoch 86650/100000 error = 0.00036009521736086103epoch 87530/100000 error = 0.0003557052824306925epoch 88182/100000 error = 0.00035251968530040304epoch 89041/100000 error = 0.0003484069662462412epoch 89749/100000 error = 0.00034508714163676617epoch 90607/100000 error = 0.0003411460170586908epoch 91424/100000 error = 0.00033747425077147784epoch 92223/100000 error = 0.00033395744394483517epoch 92916/100000 error = 0.00033096479082908863epoch 93779/100000 error = 0.00032731062441632814epoch 94599/100000 error = 0.00032391098356312294epoch 95277/100000 error = 0.00032115184912501074epoch 96016/100000 error = 0.0003181964277381412epoch 96442/100000 error = 0.0003165168391512029epoch 97179/100000 error = 0.000313651714680106epoch 98039/100000 error = 0.0003103719921073759epoch 98441/100000 error = 0.00030886184383648887epoch 98882/100000 error = 0.00030722165842639825epoch 99763/100000 error = 0.000303995576166665"
     ]
    }
   ],
   "source": [
    "nn2.fit(dataset)"
   ],
   "metadata": {
    "collapsed": false,
    "pycharm": {
     "name": "#%%\n"
    }
   }
  },
  {
   "cell_type": "code",
   "execution_count": 11,
   "outputs": [
    {
     "data": {
      "text/plain": "array([[1.],\n       [0.],\n       [0.],\n       [1.]])"
     },
     "execution_count": 11,
     "metadata": {},
     "output_type": "execute_result"
    }
   ],
   "source": [
    "np.round(nn2.predict(X))"
   ],
   "metadata": {
    "collapsed": false,
    "pycharm": {
     "name": "#%%\n"
    }
   }
  },
  {
   "cell_type": "code",
   "execution_count": 12,
   "outputs": [
    {
     "data": {
      "text/plain": "<Figure size 432x288 with 1 Axes>",
      "image/png": "[encoded data removed]"
     },
     "metadata": {
      "needs_background": "light"
     },
     "output_type": "display_data"
    }
   ],
   "source": [
    "import matplotlib.pyplot as plt\n",
    "%matplotlib inline\n",
    "plt.plot(list(nn2.history.keys()), list(nn2.history.values()), '-', color='red')\n",
    "plt.title('Loss')\n",
    "plt.show()"
   ],
   "metadata": {
    "collapsed": false,
    "pycharm": {
     "name": "#%%\n"
    }
   }
  },
  {
   "cell_type": "code",
   "execution_count": 13,
   "outputs": [
    {
     "data": {
      "text/plain": "array([[1.],\n       [0.],\n       [0.],\n       [1.]])"
     },
     "execution_count": 13,
     "metadata": {},
     "output_type": "execute_result"
    }
   ],
   "source": [
    "np.round(nn2.predict(dataset.X))"
   ],
   "metadata": {
    "collapsed": false,
    "pycharm": {
     "name": "#%%\n"
    }
   }
  },
  {
   "cell_type": "code",
   "execution_count": 14,
   "outputs": [
    {
     "data": {
      "text/plain": "0.00030313541337969625"
     },
     "execution_count": 14,
     "metadata": {},
     "output_type": "execute_result"
    }
   ],
   "source": [
    "nn2.cost(dataset.X,dataset.Y)\n"
   ],
   "metadata": {
    "collapsed": false,
    "pycharm": {
     "name": "#%%\n"
    }
   }
  }
 ],
 "metadata": {
  "kernelspec": {
   "name": "pycharm-5ca3d496",
   "language": "python",
   "display_name": "PyCharm (Av_Cont)"
  },
  "language_info": {
   "codemirror_mode": {
    "name": "ipython",
    "version": 2
   },
   "file_extension": ".py",
   "mimetype": "text/x-python",
   "name": "python",
   "nbconvert_exporter": "python",
   "pygments_lexer": "ipython2",
   "version": "2.7.6"
  }
 },
 "nbformat": 4,
 "nbformat_minor": 0
}